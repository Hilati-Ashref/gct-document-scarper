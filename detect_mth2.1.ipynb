{
 "cells": [
  {
   "cell_type": "code",
   "execution_count": null,
   "metadata": {},
   "outputs": [],
   "source": [
    "import matplotlib.pyplot as plt\n",
    "import easyocr\n",
    "import cv2\n",
    "\n",
    "# img = cv2.imread(\"imtestID.jpg\")\n",
    "img = cv2.imread(\"imtestIDPS2.png\")\n",
    "reader = easyocr.Reader(['ar','en'])\n",
    "\n",
    "result = reader.readtext(img)\n",
    "for (bbox, text, prob) in results:\n",
    "\t# display the OCR'd text and associated probability\n",
    "\tprint(\"[INFO] {:.4f}: {}\".format(prob, text))\n",
    "\t# unpack the bounding box\n",
    "\t(tl, tr, br, bl) = bbox\n",
    "\ttl = (int(tl[0]), int(tl[1]))\n",
    "\ttr = (int(tr[0]), int(tr[1]))\n",
    "\tbr = (int(br[0]), int(br[1]))\n",
    "\tbl = (int(bl[0]), int(bl[1]))\n",
    "\t# with the OCR'd text itself\n",
    "\tcv2.rectangle(img, tl, br, (0, 255, 0), 2)\n",
    "\n",
    "# show the output image\n",
    "plt.imshow(img)"
   ]
  }
 ],
 "metadata": {
  "kernelspec": {
   "display_name": "Python 3.10.5 64-bit",
   "language": "python",
   "name": "python3"
  },
  "language_info": {
   "name": "python",
   "version": "3.10.5"
  },
  "orig_nbformat": 4,
  "vscode": {
   "interpreter": {
    "hash": "f643d95e6fcd24c6a360f597483d5d8d7d0fb68b911efe8057ae548a9a718948"
   }
  }
 },
 "nbformat": 4,
 "nbformat_minor": 2
}
